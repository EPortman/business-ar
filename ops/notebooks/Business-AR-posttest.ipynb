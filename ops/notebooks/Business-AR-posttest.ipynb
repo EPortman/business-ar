{
 "cells": [
  {
   "cell_type": "markdown",
   "id": "948e71f2-ae2b-4aa8-b806-4ad5d169a3f4",
   "metadata": {
    "jp-MarkdownHeadingCollapsed": true
   },
   "source": [
    "## Setup"
   ]
  },
  {
   "cell_type": "code",
   "execution_count": 1,
   "id": "2604824c-2921-40f2-8a5f-2a55dc84ebb6",
   "metadata": {},
   "outputs": [],
   "source": [
    "%load_ext sql"
   ]
  },
  {
   "cell_type": "code",
   "execution_count": 2,
   "id": "93b3d5e3-dd3b-415b-a45f-5e006a324491",
   "metadata": {},
   "outputs": [
    {
     "data": {
      "text/plain": [
       "True"
      ]
     },
     "execution_count": 2,
     "metadata": {},
     "output_type": "execute_result"
    }
   ],
   "source": [
    "from dotenv import find_dotenv\n",
    "from dotenv import load_dotenv\n",
    "load_dotenv(find_dotenv())"
   ]
  },
  {
   "cell_type": "code",
   "execution_count": 3,
   "id": "cf7ebdac-e22d-49f6-9836-fa3232d4135d",
   "metadata": {},
   "outputs": [],
   "source": [
    "import google.auth\n",
    "credentials, project_id = google.auth.default()"
   ]
  },
  {
   "cell_type": "code",
   "execution_count": 23,
   "id": "a8f98563-8b31-4c99-8049-ac60055e50e2",
   "metadata": {},
   "outputs": [],
   "source": [
    "import os\n",
    "from google.cloud.sql.connector import Connector\n",
    "import sqlalchemy\n",
    "\n",
    "# initialize Connector object\n",
    "connector = Connector()\n",
    "\n",
    "# function to return the database connection object\n",
    "def get_conn():\n",
    "    conn = connector.connect(\n",
    "        INSTANCE_CONNECTION_NAME,\n",
    "        \"pg8000\",\n",
    "        user=DB_USER,\n",
    "        password=DB_PASSWORD,\n",
    "        db=DB_NAME\n",
    "    )\n",
    "    return conn\n",
    "\n",
    "def get_pool():\n",
    "    # create connection pool with 'creator' argument to our connection object function\n",
    "    pool = sqlalchemy.create_engine(\n",
    "        \"postgresql+pg8000://\",\n",
    "        creator=get_conn,\n",
    "    )\n",
    "    \n",
    "    return pool"
   ]
  },
  {
   "cell_type": "markdown",
   "id": "36ad8652-69ba-4bf6-b80b-35146fe3ffc3",
   "metadata": {
    "jp-MarkdownHeadingCollapsed": true
   },
   "source": [
    "## Create Business Connection"
   ]
  },
  {
   "cell_type": "code",
   "execution_count": 24,
   "id": "a90e8335-99b9-43c6-8b2f-b4b415bda24e",
   "metadata": {},
   "outputs": [],
   "source": [
    "DB_USER = os.getenv(\"BUSINESS_USERNAME\", \"\")\n",
    "DB_PASSWORD = os.getenv(\"BUSINESS_PASSWORD\", \"\")\n",
    "DB_NAME = os.getenv(\"BUSINESS_NAME\", \"\")\n",
    "INSTANCE_CONNECTION_NAME = os.getenv(\"BUSINESS_CONNECTION\", \"\")\n",
    "\n",
    "business_pool = get_pool()\n",
    "%sql business_pool --alias business\n",
    "%sql business"
   ]
  },
  {
   "cell_type": "code",
   "execution_count": 25,
   "id": "c1748f94-01bc-46f2-9424-222d3bda779b",
   "metadata": {},
   "outputs": [
    {
     "data": {
      "text/html": [
       "<span style=\"None\">Running query in &#x27;business&#x27;</span>"
      ],
      "text/plain": [
       "Running query in 'business'"
      ]
     },
     "metadata": {},
     "output_type": "display_data"
    },
    {
     "data": {
      "text/html": [
       "<span style=\"color: green\">1 rows affected.</span>"
      ],
      "text/plain": [
       "1 rows affected."
      ]
     },
     "metadata": {},
     "output_type": "display_data"
    },
    {
     "data": {
      "text/html": [
       "<table>\n",
       "    <thead>\n",
       "        <tr>\n",
       "            <th>now</th>\n",
       "        </tr>\n",
       "    </thead>\n",
       "    <tbody>\n",
       "        <tr>\n",
       "            <td>2024-04-29 03:20:34.387956+00:00</td>\n",
       "        </tr>\n",
       "    </tbody>\n",
       "</table>"
      ],
      "text/plain": [
       "+----------------------------------+\n",
       "|               now                |\n",
       "+----------------------------------+\n",
       "| 2024-04-29 03:20:34.387956+00:00 |\n",
       "+----------------------------------+"
      ]
     },
     "execution_count": 25,
     "metadata": {},
     "output_type": "execute_result"
    }
   ],
   "source": [
    "%%sql\n",
    "select now();"
   ]
  },
  {
   "cell_type": "markdown",
   "id": "3ed40752-2f56-49ae-bd02-7eab3799112f",
   "metadata": {
    "jp-MarkdownHeadingCollapsed": true
   },
   "source": [
    "## Create Warehouse Connection"
   ]
  },
  {
   "cell_type": "code",
   "execution_count": 26,
   "id": "b841e5da-1315-498a-88da-e89ba07ad5d0",
   "metadata": {},
   "outputs": [],
   "source": [
    "DB_USER = os.getenv(\"WAREHOUSE_USERNAME\", \"\")\n",
    "DB_PASSWORD = os.getenv(\"WAREHOUSE_PASSWORD\", \"\")\n",
    "DB_NAME = os.getenv(\"WAREHOUSE_NAME\", \"\")\n",
    "INSTANCE_CONNECTION_NAME = os.getenv(\"WAREHOUSE_CONNECTION\", \"\")\n",
    "\n",
    "warehouse_pool = get_pool()\n",
    "%sql warehouse_pool --alias warehouse\n",
    "%sql warehouse"
   ]
  },
  {
   "cell_type": "code",
   "execution_count": 27,
   "id": "f3bf32a4-46ae-449f-af90-275e61052028",
   "metadata": {},
   "outputs": [
    {
     "data": {
      "text/html": [
       "<span style=\"None\">Running query in &#x27;warehouse&#x27;</span>"
      ],
      "text/plain": [
       "Running query in 'warehouse'"
      ]
     },
     "metadata": {},
     "output_type": "display_data"
    },
    {
     "data": {
      "text/html": [
       "<span style=\"color: green\">1 rows affected.</span>"
      ],
      "text/plain": [
       "1 rows affected."
      ]
     },
     "metadata": {},
     "output_type": "display_data"
    },
    {
     "data": {
      "text/html": [
       "<table>\n",
       "    <thead>\n",
       "        <tr>\n",
       "            <th>now</th>\n",
       "        </tr>\n",
       "    </thead>\n",
       "    <tbody>\n",
       "        <tr>\n",
       "            <td>2024-04-29 03:22:30.802538+00:00</td>\n",
       "        </tr>\n",
       "    </tbody>\n",
       "</table>"
      ],
      "text/plain": [
       "+----------------------------------+\n",
       "|               now                |\n",
       "+----------------------------------+\n",
       "| 2024-04-29 03:22:30.802538+00:00 |\n",
       "+----------------------------------+"
      ]
     },
     "execution_count": 27,
     "metadata": {},
     "output_type": "execute_result"
    }
   ],
   "source": [
    "%%sql\n",
    "select now();"
   ]
  },
  {
   "cell_type": "markdown",
   "id": "31a11fc1-4a01-4854-853a-b9ff9f05fac2",
   "metadata": {
    "jp-MarkdownHeadingCollapsed": true
   },
   "source": [
    "## List Database Connections"
   ]
  },
  {
   "cell_type": "code",
   "execution_count": 34,
   "id": "ec13d4ed-bb75-49f0-8920-5b1a7280a9f8",
   "metadata": {},
   "outputs": [
    {
     "data": {
      "text/html": [
       "Active connections:\n",
       "<table>\n",
       "    <thead>\n",
       "        <tr>\n",
       "            <th>current</th>\n",
       "            <th>url</th>\n",
       "            <th>alias</th>\n",
       "        </tr>\n",
       "    </thead>\n",
       "    <tbody>\n",
       "        <tr>\n",
       "            <td>*</td>\n",
       "            <td>postgresql+pg8000://</td>\n",
       "            <td>business</td>\n",
       "        </tr>\n",
       "        <tr>\n",
       "            <td></td>\n",
       "            <td>postgresql+pg8000://</td>\n",
       "            <td>warehouse</td>\n",
       "        </tr>\n",
       "    </tbody>\n",
       "</table>"
      ],
      "text/plain": [
       "Active connections:\n",
       "+---------+----------------------+-----------+\n",
       "| current |         url          |   alias   |\n",
       "+---------+----------------------+-----------+\n",
       "|    *    | postgresql+pg8000:// |  business |\n",
       "|         | postgresql+pg8000:// | warehouse |\n",
       "+---------+----------------------+-----------+"
      ]
     },
     "execution_count": 34,
     "metadata": {},
     "output_type": "execute_result"
    }
   ],
   "source": [
    "%sql --connections"
   ]
  },
  {
   "cell_type": "markdown",
   "id": "6e074716-a234-4d68-b8da-8f95f35c8109",
   "metadata": {},
   "source": [
    "## Query Business Database"
   ]
  },
  {
   "cell_type": "code",
   "execution_count": 35,
   "id": "4bd3e31e-3b66-4a8c-bcde-bd7e22cbd859",
   "metadata": {},
   "outputs": [],
   "source": [
    "%sql business"
   ]
  },
  {
   "cell_type": "code",
   "execution_count": 36,
   "id": "5907a7ee-a88b-4ace-99ac-2777dbc2dfff",
   "metadata": {},
   "outputs": [
    {
     "data": {
      "text/html": [
       "<span style=\"None\">Running query in &#x27;business&#x27;</span>"
      ],
      "text/plain": [
       "Running query in 'business'"
      ]
     },
     "metadata": {},
     "output_type": "display_data"
    },
    {
     "data": {
      "text/html": [
       "<span style=\"color: green\">2 rows affected.</span>"
      ],
      "text/plain": [
       "2 rows affected."
      ]
     },
     "metadata": {},
     "output_type": "display_data"
    }
   ],
   "source": [
    "%%sql business_data <<\n",
    "select * from business"
   ]
  },
  {
   "cell_type": "code",
   "execution_count": 37,
   "id": "56572157-e9e7-4bcd-a89c-42ad91db926c",
   "metadata": {},
   "outputs": [
    {
     "data": {
      "text/html": [
       "<table>\n",
       "    <thead>\n",
       "        <tr>\n",
       "            <th>id</th>\n",
       "            <th>legal_name</th>\n",
       "            <th>legal_type</th>\n",
       "            <th>identifier</th>\n",
       "            <th>tax_id</th>\n",
       "            <th>nano_id</th>\n",
       "        </tr>\n",
       "    </thead>\n",
       "    <tbody>\n",
       "        <tr>\n",
       "            <td>1</td>\n",
       "            <td>C3 HUB CCC LTD. - IMPORT_TEST</td>\n",
       "            <td>CC</td>\n",
       "            <td>BC1120292</td>\n",
       "            <td>None</td>\n",
       "            <td>abcd123</td>\n",
       "        </tr>\n",
       "        <tr>\n",
       "            <td>2</td>\n",
       "            <td>FB HEALTH SUPPORT CCC CORP. - IMPORT_TEST</td>\n",
       "            <td>CC</td>\n",
       "            <td>BC1335427</td>\n",
       "            <td>None</td>\n",
       "            <td>efgh456</td>\n",
       "        </tr>\n",
       "    </tbody>\n",
       "</table>"
      ],
      "text/plain": [
       "+----+-------------------------------------------+------------+------------+--------+---------+\n",
       "| id |                 legal_name                | legal_type | identifier | tax_id | nano_id |\n",
       "+----+-------------------------------------------+------------+------------+--------+---------+\n",
       "| 1  |       C3 HUB CCC LTD. - IMPORT_TEST       |     CC     | BC1120292  |  None  | abcd123 |\n",
       "| 2  | FB HEALTH SUPPORT CCC CORP. - IMPORT_TEST |     CC     | BC1335427  |  None  | efgh456 |\n",
       "+----+-------------------------------------------+------------+------------+--------+---------+"
      ]
     },
     "execution_count": 37,
     "metadata": {},
     "output_type": "execute_result"
    }
   ],
   "source": [
    "business_data"
   ]
  },
  {
   "cell_type": "markdown",
   "id": "4ac03827",
   "metadata": {},
   "source": [
    "# Rollback the New Changes"
   ]
  },
  {
   "cell_type": "code",
   "execution_count": null,
   "id": "ca26a879",
   "metadata": {},
   "outputs": [],
   "source": [
    "identifier = \"BC0814603\"\n",
    "delete_stmt = (\n",
    "  sqlalchemy.delete('filing')\n",
    "  .where('identifier' == identifier)\n",
    ")\n",
    "\n",
    "select_stmt = (\n",
    "  sqlalchemy.select('filing')\n",
    "  .where('identifier' == identifier)\n",
    ")\n",
    "\n",
    "##Get filing before deleting it\n",
    "result = business_pool.execute(select_stmt).first()\n",
    "filingId = result[0].id\n",
    "\n",
    "#delete filing\n",
    "del_results = business_pool.execute(delete_stmt)\n",
    "\n",
    "#Get colin_event_ids\n",
    "select_stmt = (\n",
    "  sqlalchemy.select('colin_event_ids')\n",
    "  .where('filing_id' == filingId)\n",
    ")\n",
    "colin_event_ids = business_pool.execute(select_stmt).all()\n",
    "\n",
    "unique_event_ids = []\n",
    "for item in colin_event_ids:\n",
    "    if item[\"colin_event_id\"] not in unique_event_ids:\n",
    "        unique_event_ids.append(item[\"colin_event_id\"])\n",
    "\n",
    "#delete colin_event_ids\n",
    "delete_stmt = (\n",
    "  sqlalchemy.delete('colin_event_ids')\n",
    "  .where('filing_id' == filingId)\n",
    ")\n",
    "\n",
    "del_results2 = business_pool.execute(delete_stmt)\n",
    "\n",
    "del_results\n",
    "del_results2"
   ]
  },
  {
   "cell_type": "markdown",
   "id": "70b23f94",
   "metadata": {},
   "source": [
    "# Rollback Colin"
   ]
  },
  {
   "cell_type": "code",
   "execution_count": null,
   "id": "f831e6ac",
   "metadata": {},
   "outputs": [],
   "source": [
    "import requests\n",
    "from datetime import datetime\n",
    "\n",
    "COLIN_API_URL = os.getenv(\"COLIN_API_URL\", \"\")\n",
    "COLIN_CLIENT = os.getenv(\"COLIN_API_SVC_CLIENT_ID\", \"\")\n",
    "COLIN_SECRET = os.getenv(\"COLIN_AI_API_SVC_CLIENT_SECRET\", \"\")\n",
    "\n",
    "colin_api_endpoint = f\"{COLIN_API_URL}/reset/by_event_id\"\n",
    "\n",
    "#Get Token\n",
    "token_url = os.getenv(\"AUTH_SVC_URL\", \"\")\n",
    "timeout = int(os.getenv(\"AUTH_SVC_TIMEOUT\", 20))\n",
    "\n",
    "data = \"grant_type=client_credentials\"\n",
    "\n",
    "# get service account token\n",
    "res = requests.post(\n",
    "  url=token_url,\n",
    "  data=data,\n",
    "  headers={\"content-type\": \"application/x-www-form-urlencoded\"},\n",
    "  auth=(COLIN_CLIENT, COLIN_SECRET),\n",
    "  timeout=timeout,\n",
    ")\n",
    "\n",
    "token = res.json().get(\"access_token\")\n",
    "\n",
    "colin_business_identifier = (\n",
    "  identifier[2:] if identifier.startswith(\"BC\", 0, 2) else identifier\n",
    ")\n",
    "date = datetime.now().strftime(\"%Y-%m-%d\")\n",
    "\n",
    "#ADD event ids\n",
    "reset_data = {\n",
    "  \"event_ids\": unique_event_ids,\n",
    "}\n",
    "\n",
    "\n",
    "reset_details = requests.post(\n",
    "    url=colin_api_endpoint,\n",
    "    auth=(\"Bearer\", token),\n",
    "    headers={\"content-type\": \"application/json\"},\n",
    "    json={\"data\": reset_data},\n",
    ").json()\n",
    "\n",
    "reset_details"
   ]
  },
  {
   "cell_type": "markdown",
   "id": "9fa28a56",
   "metadata": {},
   "source": [
    "## SBCAUTH Keycloak\n",
    "\n",
    "This is going to have to be manual since sbcauth only does soft delete and keycloak only supports modification via an admin api key. (Previously this had to be admin on master which won't happen TBD if thats still the case)\n",
    "\n",
    "\n",
    "Manual - Delete the user in keycloak.\n",
    "\n",
    "### Find the user id using last name (example based on integration test user)\n",
    "```sql\n",
    "select id into user_id_value from users where last_name = 'WU';\n",
    "```\n",
    "\n",
    "### Delete from SBC Auth DB\n",
    "Note replace 2223 below with the user id\n",
    "```sql\n",
    "begin;\n",
    "update entities set modified_by_id = null where modified_by_id = 2223;\n",
    "update memberships set created_by_id = null where created_by_id = 2223;\n",
    "delete from product_subscriptions where created_by_id = 2223;\n",
    "delete from memberships where user_id = 2223;\n",
    "delete from contact_links where created_by_id = 2223 or user_id = 2223;\n",
    "delete from affiliations where created_by_id = 2223;\n",
    "delete from orgs where created_by_id = 2223;\n",
    "delete from contact_links where user_id = 2223;\n",
    "delete from contact_links where created_by_id = 2223;\n",
    "delete from contacts where created_by_id = 2223;\n",
    "delete from users where id = 2223;\n",
    "```\n",
    "\n"
   ]
  }
 ],
 "metadata": {
  "kernelspec": {
   "display_name": "Python 3 (ipykernel)",
   "language": "python",
   "name": "python3"
  },
  "language_info": {
   "codemirror_mode": {
    "name": "ipython",
    "version": 3
   },
   "file_extension": ".py",
   "mimetype": "text/x-python",
   "name": "python",
   "nbconvert_exporter": "python",
   "pygments_lexer": "ipython3",
   "version": "3.11.8"
  }
 },
 "nbformat": 4,
 "nbformat_minor": 5
}
